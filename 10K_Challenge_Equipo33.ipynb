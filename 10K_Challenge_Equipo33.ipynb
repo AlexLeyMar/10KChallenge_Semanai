{
  "cells": [
    {
      "cell_type": "markdown",
      "metadata": {
        "id": "IF-me0lgEpYi"
      },
      "source": [
        "Maquina Virtual"
      ]
    },
    {
      "cell_type": "code",
      "source": [
        "!lsb_release -a"
      ],
      "metadata": {
        "colab": {
          "base_uri": "https://localhost:8080/"
        },
        "id": "n74aZARs_tG1",
        "outputId": "64e5ec31-2ccd-4144-fba7-21f0490f51a1"
      },
      "execution_count": 1,
      "outputs": [
        {
          "output_type": "stream",
          "name": "stdout",
          "text": [
            "No LSB modules are available.\n",
            "Distributor ID:\tUbuntu\n",
            "Description:\tUbuntu 18.04.6 LTS\n",
            "Release:\t18.04\n",
            "Codename:\tbionic\n"
          ]
        }
      ]
    },
    {
      "cell_type": "code",
      "execution_count": 2,
      "metadata": {
        "colab": {
          "base_uri": "https://localhost:8080/"
        },
        "id": "EW24ah0ERe_k",
        "outputId": "6f1f5906-e8c4-468c-c172-cb1194677657"
      },
      "outputs": [
        {
          "output_type": "stream",
          "name": "stdout",
          "text": [
            "CPU(s):              2\n",
            "Thread(s) per core:  2\n",
            "Core(s) per socket:  1\n",
            "Socket(s):           1\n",
            "Model name:          Intel(R) Xeon(R) CPU @ 2.20GHz\n"
          ]
        }
      ],
      "source": [
        "!lscpu | grep -E '^Model name|^Thread|^Core|^Socket|^CPU\\('"
      ]
    },
    {
      "cell_type": "code",
      "source": [
        "!free -m -h"
      ],
      "metadata": {
        "colab": {
          "base_uri": "https://localhost:8080/"
        },
        "id": "eOUslny30IXN",
        "outputId": "849073f7-f07a-41e7-c047-33b53820c959"
      },
      "execution_count": null,
      "outputs": [
        {
          "output_type": "stream",
          "name": "stdout",
          "text": [
            "              total        used        free      shared  buff/cache   available\n",
            "Mem:            12G        859M          9G        1.2M        1.9G         11G\n",
            "Swap:            0B          0B          0B\n"
          ]
        }
      ]
    },
    {
      "cell_type": "code",
      "source": [
        "!df -h"
      ],
      "metadata": {
        "colab": {
          "base_uri": "https://localhost:8080/"
        },
        "id": "sEIZ9U-R0UI9",
        "outputId": "f9f6afff-161c-42d5-f872-d1849f1f2e46"
      },
      "execution_count": 3,
      "outputs": [
        {
          "output_type": "stream",
          "name": "stdout",
          "text": [
            "Filesystem      Size  Used Avail Use% Mounted on\n",
            "overlay         108G   23G   86G  21% /\n",
            "tmpfs            64M     0   64M   0% /dev\n",
            "shm             5.8G     0  5.8G   0% /dev/shm\n",
            "/dev/root       2.0G  1.1G  910M  54% /sbin/docker-init\n",
            "tmpfs           6.4G   32K  6.4G   1% /var/colab\n",
            "/dev/sda1        41G   24G   17G  59% /etc/hosts\n",
            "tmpfs           6.4G     0  6.4G   0% /proc/acpi\n",
            "tmpfs           6.4G     0  6.4G   0% /proc/scsi\n",
            "tmpfs           6.4G     0  6.4G   0% /sys/firmware\n"
          ]
        }
      ]
    },
    {
      "cell_type": "code",
      "source": [
        "!lsblk -d -o name,rota"
      ],
      "metadata": {
        "colab": {
          "base_uri": "https://localhost:8080/"
        },
        "id": "ouYNz1s10aXr",
        "outputId": "b328364b-8357-4c9a-b492-910f73c71d89"
      },
      "execution_count": null,
      "outputs": [
        {
          "output_type": "stream",
          "name": "stdout",
          "text": [
            "NAME  ROTA\n",
            "loop0    0\n",
            "sda      0\n"
          ]
        }
      ]
    },
    {
      "cell_type": "code",
      "source": [],
      "metadata": {
        "id": "HVpStMpv0cXa"
      },
      "execution_count": null,
      "outputs": []
    },
    {
      "cell_type": "markdown",
      "source": [
        "Instalación de Requerimientos"
      ],
      "metadata": {
        "id": "qM5X32-Q0dN1"
      }
    },
    {
      "cell_type": "code",
      "execution_count": 1,
      "metadata": {
        "id": "TrxTL-CnEvvR"
      },
      "outputs": [],
      "source": [
        "!apt-get install openjdk-11-jdk-headless -qq > /dev/null\n",
        "!wget -q https://archive.apache.org/dist/spark/spark-3.2.2/spark-3.2.2-bin-hadoop3.2.tgz\n",
        "!tar xf spark-3.2.2-bin-hadoop3.2.tgz\n",
        "!pip -q install findspark"
      ]
    },
    {
      "cell_type": "code",
      "execution_count": 2,
      "metadata": {
        "colab": {
          "base_uri": "https://localhost:8080/"
        },
        "id": "bDTbRe9mF4Jx",
        "outputId": "3dc2e04b-7b5b-47cc-a128-265b7bc6fa5f"
      },
      "outputs": [
        {
          "output_type": "stream",
          "name": "stdout",
          "text": [
            "openjdk version \"11.0.16\" 2022-07-19\n",
            "OpenJDK Runtime Environment (build 11.0.16+8-post-Ubuntu-0ubuntu118.04)\n",
            "OpenJDK 64-Bit Server VM (build 11.0.16+8-post-Ubuntu-0ubuntu118.04, mixed mode, sharing)\n"
          ]
        }
      ],
      "source": [
        "! java -version"
      ]
    },
    {
      "cell_type": "code",
      "execution_count": 3,
      "metadata": {
        "id": "MlGo6CQiFHVP"
      },
      "outputs": [],
      "source": [
        "import os\n",
        "os.environ[\"JAVA_HOME\"] = \"/usr/lib/jvm/java-11-openjdk-amd64\"\n",
        "os.environ[\"SPARK_HOME\"] = \"/content/spark-3.2.2-bin-hadoop3.2\""
      ]
    },
    {
      "cell_type": "code",
      "execution_count": 4,
      "metadata": {
        "id": "WBP7STCmK-ru",
        "colab": {
          "base_uri": "https://localhost:8080/"
        },
        "outputId": "e2754672-fcac-4342-a6b1-56ad6b147706"
      },
      "outputs": [
        {
          "output_type": "stream",
          "name": "stdout",
          "text": [
            "\u001b[K     |████████████████████████████████| 281.4 MB 47 kB/s \n",
            "\u001b[K     |████████████████████████████████| 199 kB 56.8 MB/s \n",
            "\u001b[?25h  Building wheel for pyspark (setup.py) ... \u001b[?25l\u001b[?25hdone\n"
          ]
        }
      ],
      "source": [
        "!pip -q install pyspark"
      ]
    },
    {
      "cell_type": "code",
      "execution_count": 5,
      "metadata": {
        "colab": {
          "base_uri": "https://localhost:8080/"
        },
        "id": "0zCM53AzFHi0",
        "outputId": "3e7a1b65-d8ed-4ed6-b74d-f059fb98adc7"
      },
      "outputs": [
        {
          "output_type": "stream",
          "name": "stdout",
          "text": [
            "\u001b[K     |████████████████████████████████| 1.0 MB 23.2 MB/s \n",
            "\u001b[K     |████████████████████████████████| 1.0 MB 42.9 MB/s \n",
            "\u001b[K     |████████████████████████████████| 67 kB 7.0 MB/s \n",
            "\u001b[K     |████████████████████████████████| 16.7 MB 731 kB/s \n",
            "\u001b[K     |████████████████████████████████| 6.3 MB 14.2 MB/s \n",
            "\u001b[?25h"
          ]
        }
      ],
      "source": [
        "!pip -q install geopandas attrs shapely rtree apache-sedona[spark]"
      ]
    },
    {
      "cell_type": "markdown",
      "source": [
        "Descarga de Bases de Datos Listas para el Análisis"
      ],
      "metadata": {
        "id": "pm8U3jwS1sGN"
      }
    },
    {
      "cell_type": "code",
      "source": [
        "#Descarga de Bases de Datos SCINCE 2020 y DENUE Mayo 2022\n",
        "#DENUE: https://drive.google.com/file/d/1CbCm0n41uKHPi-L8bTag2G6RA71tdaM4/view?usp=sharing\n",
        "!gdown 1fP3gOjc50v4ztZpK21L7X1obHVlnHKU4\n",
        "#!gdown 1fP3gOjc50v4ztZpK21L7X1obHVlnHKU4\n",
        "#SCINCE:https://drive.google.com/file/d/134WppiiO8fdYOxD4yJI-ZX51YTwnVgLu/view?usp=sharing\n",
        "!gdown 1qdP9r144S0T7cfnZ6SblfnqGMlnfRqsg\n",
        "#!gdown 1qdP9r144S0T7cfnZ6SblfnqGMlnfRqsg"
      ],
      "metadata": {
        "colab": {
          "base_uri": "https://localhost:8080/"
        },
        "id": "pGImqYqXHX7q",
        "outputId": "ec447dc8-10fb-4dfe-c122-6f34b05015cc"
      },
      "execution_count": 6,
      "outputs": [
        {
          "output_type": "stream",
          "name": "stdout",
          "text": [
            "Downloading...\n",
            "From: https://drive.google.com/uc?id=1fP3gOjc50v4ztZpK21L7X1obHVlnHKU4\n",
            "To: /content/DENUE_Parquets.zip\n",
            "100% 486M/486M [00:05<00:00, 95.1MB/s]\n",
            "Downloading...\n",
            "From: https://drive.google.com/uc?id=1qdP9r144S0T7cfnZ6SblfnqGMlnfRqsg\n",
            "To: /content/SCINCE_Parquets.zip\n",
            "100% 1.14G/1.14G [00:13<00:00, 83.3MB/s]\n"
          ]
        }
      ]
    },
    {
      "cell_type": "markdown",
      "metadata": {
        "id": "GLN2kRDjREcB"
      },
      "source": [
        "Descompactar los Datos"
      ]
    },
    {
      "cell_type": "code",
      "execution_count": 7,
      "metadata": {
        "colab": {
          "base_uri": "https://localhost:8080/"
        },
        "id": "oIZr5GwhRG1D",
        "outputId": "10db2198-ac6c-4d4a-f5f8-0454e318d683"
      },
      "outputs": [
        {
          "output_type": "stream",
          "name": "stdout",
          "text": [
            "/content/DENUE_Parquets.zip  /content/SCINCE_Parquets.zip\n"
          ]
        }
      ],
      "source": [
        "!ls /content/*.zip"
      ]
    },
    {
      "cell_type": "code",
      "execution_count": 8,
      "metadata": {
        "id": "LhkTKoZcRgd9"
      },
      "outputs": [],
      "source": [
        "!unzip /content/DENUE_Parquets.zip -d /content/DENUE_Parquets/ &> /dev/null"
      ]
    },
    {
      "cell_type": "code",
      "execution_count": 9,
      "metadata": {
        "id": "-G2Y00INSQbC"
      },
      "outputs": [],
      "source": [
        "!unzip /content/SCINCE_Parquets.zip -d /content/SCINCE_Parquets/ &> /dev/null"
      ]
    },
    {
      "cell_type": "code",
      "source": [
        "!ls /content/DENUE_Parquets"
      ],
      "metadata": {
        "colab": {
          "base_uri": "https://localhost:8080/"
        },
        "id": "Aj4fL_pw1C1Q",
        "outputId": "e71d8c86-6f77-48bf-cfc5-c168595165ef"
      },
      "execution_count": 10,
      "outputs": [
        {
          "output_type": "stream",
          "name": "stdout",
          "text": [
            "01.parquet  07.parquet\t13.parquet    18.parquet  24.parquet  30.parquet\n",
            "02.parquet  08.parquet\t14.parquet    19.parquet  25.parquet  31.parquet\n",
            "03.parquet  09.parquet\t15_1.parquet  20.parquet  26.parquet  32.parquet\n",
            "04.parquet  10.parquet\t15_2.parquet  21.parquet  27.parquet\n",
            "05.parquet  11.parquet\t16.parquet    22.parquet  28.parquet\n",
            "06.parquet  12.parquet\t17.parquet    23.parquet  29.parquet\n"
          ]
        }
      ]
    },
    {
      "cell_type": "code",
      "source": [],
      "metadata": {
        "id": "LUy85kqY1HAV"
      },
      "execution_count": null,
      "outputs": []
    },
    {
      "cell_type": "markdown",
      "source": [
        "Inicio de Apache Spark y Apache Sedona"
      ],
      "metadata": {
        "id": "6GvLgMXF1L3h"
      }
    },
    {
      "cell_type": "code",
      "execution_count": 11,
      "metadata": {
        "colab": {
          "base_uri": "https://localhost:8080/"
        },
        "id": "2RyhZF4HFf1J",
        "outputId": "4a00c4b4-8f45-46ba-9293-fd8a37a56bc2"
      },
      "outputs": [
        {
          "output_type": "execute_result",
          "data": {
            "text/plain": [
              "True"
            ]
          },
          "metadata": {},
          "execution_count": 11
        }
      ],
      "source": [
        "import findspark\n",
        "findspark.init()\n",
        "import shapely\n",
        "import pandas as pd \n",
        "import geopandas as gpd\n",
        "from pyspark.sql import SparkSession\n",
        "from pyspark import SparkContext\n",
        "from pyspark import SparkConf\n",
        "from sedona.register import SedonaRegistrator\n",
        "from sedona.utils import SedonaKryoRegistrator, KryoSerializer\n",
        "spark = SparkSession. \\\n",
        "builder. \\\n",
        "appName('GeoBigData'). \\\n",
        "config(\"spark.serializer\", KryoSerializer.getName). \\\n",
        "config(\"spark.executor.memory\", \"5g\"). \\\n",
        "config(\"spark.driver.memory\", \"10g\"). \\\n",
        "config('spark.driver.maxResultSize', '5g'). \\\n",
        "config(\"spark.kryo.registrator\", SedonaKryoRegistrator.getName). \\\n",
        "config('spark.jars.packages',\n",
        "           'org.apache.sedona:sedona-python-adapter-3.0_2.12:1.2.0-incubating,'\n",
        "           'org.datasyslab:geotools-wrapper:1.1.0-25.2'). \\\n",
        "getOrCreate()\n",
        "SedonaRegistrator.registerAll(spark)"
      ]
    },
    {
      "cell_type": "markdown",
      "metadata": {
        "id": "l_2ojrBdQHUz"
      },
      "source": [
        "Leer Datos"
      ]
    },
    {
      "cell_type": "code",
      "execution_count": 81,
      "metadata": {
        "colab": {
          "base_uri": "https://localhost:8080/"
        },
        "id": "ut387qQlaF-E",
        "outputId": "00a93cb3-c309-4a9b-fdc8-5fdc858e75d4"
      },
      "outputs": [
        {
          "output_type": "stream",
          "name": "stdout",
          "text": [
            "root\n",
            " |-- CVEGEO: string (nullable = true)\n",
            " |-- VIV17_R: double (nullable = true)\n",
            " |-- INDI19_R: double (nullable = true)\n",
            " |-- SALUD2_R: double (nullable = true)\n",
            " |-- VIV9_R: double (nullable = true)\n",
            " |-- VIV15_R: double (nullable = true)\n",
            " |-- geometry: geometry (nullable = true)\n",
            "\n",
            "+----------------+-------+--------+--------+------+-------+--------------------+\n",
            "|          CVEGEO|VIV17_R|INDI19_R|SALUD2_R|VIV9_R|VIV15_R|            geometry|\n",
            "+----------------+-------+--------+--------+------+-------+--------------------+\n",
            "|1200100010034012|  100.0|     0.0|    33.3|  73.7|  100.0|POLYGON ((2730336...|\n",
            "|1200100010034013|  100.0|     0.0|    35.7|  58.3|  100.0|POLYGON ((2730305...|\n",
            "|1200100010049001|   93.1|     0.0|    33.6|  72.4|  100.0|POLYGON ((2730687...|\n",
            "|1200100010049020|   90.0|     0.0|    37.2|  60.0|  100.0|POLYGON ((2730779...|\n",
            "|1200100010049030|  100.0|     0.0|    -6.0|  84.6|  100.0|POLYGON ((2730870...|\n",
            "|1200100010053004|  100.0|     0.0|    30.8|  75.0|  100.0|POLYGON ((2734635...|\n",
            "|1200100010091027|  100.0|     0.0|    16.1| 100.0|  100.0|POLYGON ((2721666...|\n",
            "|1200100010091048|  100.0|     0.0|     0.0| 100.0|  100.0|POLYGON ((2720914...|\n",
            "|1200100010091062|   -6.0|    -6.0|    -6.0|  -6.0|   -6.0|POLYGON ((2720223...|\n",
            "|1200100010104003|  100.0|     0.0|    19.3|  68.4|  100.0|POLYGON ((2723311...|\n",
            "|1200100010104014|  100.0|     0.0|    21.6|  84.6|  100.0|POLYGON ((2723313...|\n",
            "|1200100010104030|  100.0|    -6.0|    16.9|  80.8|  100.0|POLYGON ((2723098...|\n",
            "|1200100010231001|  100.0|     0.0|    12.8|  66.7|  100.0|POLYGON ((2724495...|\n",
            "|1200100010231005|   98.6|    -6.0|    21.3|  63.4|  100.0|POLYGON ((2724475...|\n",
            "|1200100010231016|  100.0|     0.0|    19.5|  80.8|  100.0|POLYGON ((2724303...|\n",
            "|1200100010231037|  100.0|     0.0|    31.0|  67.9|  100.0|POLYGON ((2724826...|\n",
            "|1200100010231041|  100.0|     0.0|    14.4|  83.9|  100.0|POLYGON ((2724526...|\n",
            "|1200100010231051|  100.0|    -6.0|    13.5|  62.9|  100.0|POLYGON ((2724655...|\n",
            "|1200100010231055|   -6.0|    -6.0|    -6.0|  -6.0|   -6.0|POLYGON ((2724695...|\n",
            "|1200100010231094|  100.0|     0.0|    21.0|  59.1|  100.0|POLYGON ((2724382...|\n",
            "+----------------+-------+--------+--------+------+-------+--------------------+\n",
            "only showing top 20 rows\n",
            "\n"
          ]
        }
      ],
      "source": [
        "BD_MANZANAS = spark.read.parquet(f\"/content/SCINCE_Parquets/12_GRO.parquet\")\n",
        "BD_MANZANAS_EEVVV = BD_MANZANAS.select('CVEGEO', 'VIV17_R', 'INDI19_R', 'SALUD2_R', 'VIV9_R', 'VIV15_R', 'geometry')\n",
        "BD_MANZANAS_EEVVV.cache()\n",
        "BD_MANZANAS_EEVVV.printSchema()\n",
        "BD_MANZANAS_EEVVV.show()"
      ]
    },
    {
      "cell_type": "code",
      "source": [
        "\n"
      ],
      "metadata": {
        "id": "Mz00Qh3zXjuN"
      },
      "execution_count": 32,
      "outputs": []
    },
    {
      "cell_type": "code",
      "execution_count": 82,
      "metadata": {
        "id": "gPD2yRXja56L"
      },
      "outputs": [],
      "source": [
        "BD_MANZANAS_EEVVV.createOrReplaceTempView(\"manzanas\")"
      ]
    },
    {
      "cell_type": "code",
      "execution_count": 88,
      "metadata": {
        "colab": {
          "base_uri": "https://localhost:8080/"
        },
        "id": "q0cMVBuBa8rn",
        "outputId": "a3de2fc2-8095-4e92-f925-d37d2a7da7ba"
      },
      "outputs": [
        {
          "output_type": "stream",
          "name": "stdout",
          "text": [
            "+----------------+-------+--------+--------+------+-------+--------------------+\n",
            "|          CVEGEO|VIV17_R|INDI19_R|SALUD2_R|VIV9_R|VIV15_R|            geometry|\n",
            "+----------------+-------+--------+--------+------+-------+--------------------+\n",
            "|1200100010034012|  100.0|     0.0|    33.3|  73.7|  100.0|POLYGON ((2730336...|\n",
            "|1200100010034013|  100.0|     0.0|    35.7|  58.3|  100.0|POLYGON ((2730305...|\n",
            "|1200100010049001|   93.1|     0.0|    33.6|  72.4|  100.0|POLYGON ((2730687...|\n",
            "|1200100010049020|   90.0|     0.0|    37.2|  60.0|  100.0|POLYGON ((2730779...|\n",
            "|1200100010049030|  100.0|     0.0|     0.0|  84.6|  100.0|POLYGON ((2730870...|\n",
            "|1200100010053004|  100.0|     0.0|    30.8|  75.0|  100.0|POLYGON ((2734635...|\n",
            "|1200100010091027|  100.0|     0.0|    16.1| 100.0|  100.0|POLYGON ((2721666...|\n",
            "|1200100010091048|  100.0|     0.0|     0.0| 100.0|  100.0|POLYGON ((2720914...|\n",
            "|1200100010091062|    0.0|     0.0|     0.0|   0.0|    0.0|POLYGON ((2720223...|\n",
            "|1200100010104003|  100.0|     0.0|    19.3|  68.4|  100.0|POLYGON ((2723311...|\n",
            "|1200100010104014|  100.0|     0.0|    21.6|  84.6|  100.0|POLYGON ((2723313...|\n",
            "|1200100010104030|  100.0|     0.0|    16.9|  80.8|  100.0|POLYGON ((2723098...|\n",
            "|1200100010231001|  100.0|     0.0|    12.8|  66.7|  100.0|POLYGON ((2724495...|\n",
            "|1200100010231005|   98.6|     0.0|    21.3|  63.4|  100.0|POLYGON ((2724475...|\n",
            "|1200100010231016|  100.0|     0.0|    19.5|  80.8|  100.0|POLYGON ((2724303...|\n",
            "|1200100010231037|  100.0|     0.0|    31.0|  67.9|  100.0|POLYGON ((2724826...|\n",
            "|1200100010231041|  100.0|     0.0|    14.4|  83.9|  100.0|POLYGON ((2724526...|\n",
            "|1200100010231051|  100.0|     0.0|    13.5|  62.9|  100.0|POLYGON ((2724655...|\n",
            "|1200100010231055|    0.0|     0.0|     0.0|   0.0|    0.0|POLYGON ((2724695...|\n",
            "|1200100010231094|  100.0|     0.0|    21.0|  59.1|  100.0|POLYGON ((2724382...|\n",
            "+----------------+-------+--------+--------+------+-------+--------------------+\n",
            "only showing top 20 rows\n",
            "\n"
          ]
        }
      ],
      "source": [
        "BD_MZA_EEVVV_CORREGIDO = spark.sql(\"\"\"select \n",
        "                                  CVEGEO,\n",
        "                                  if( (isnull(VIV17_R) or VIV17_R < 0 ), 0, VIV17_R) as VIV17_R, \n",
        "                                  if( (isnull(INDI19_R) or INDI19_R < 0 ), 0, INDI19_R) as INDI19_R,\n",
        "                                  if( (isnull(SALUD2_R) or SALUD2_R < 0 ), 0, SALUD2_R) as SALUD2_R,\n",
        "                                  if( (isnull(VIV9_R) or VIV9_R < 0 ), 0, VIV9_R) as VIV9_R,\n",
        "                                  if( (isnull(VIV15_R) or VIV15_R < 0 ), 0, VIV15_R) as VIV15_R,                                  \n",
        "                                  geometry\n",
        "                             from manzanas \"\"\")\n",
        "\n",
        "BD_MZA_EEVVV_CORREGIDO.cache()\n",
        "BD_MZA_EEVVV_CORREGIDO.show()"
      ]
    },
    {
      "cell_type": "code",
      "source": [
        "df_corregida=BD_MZA_EEVVV_CORREGIDO.toPandas()\n",
        "df_corregida=df_corregida[['VIV17_R', 'INDI19_R', 'SALUD2_R', 'VIV9_R', 'VIV15_R']]\n",
        "df_corregida"
      ],
      "metadata": {
        "id": "uTKP4P0PS-DP",
        "outputId": "bb83353b-07da-4d17-89a3-f245c919d3f3",
        "colab": {
          "base_uri": "https://localhost:8080/",
          "height": 424
        }
      },
      "execution_count": 84,
      "outputs": [
        {
          "output_type": "execute_result",
          "data": {
            "text/plain": [
              "       VIV17_R  INDI19_R  SALUD2_R  VIV9_R  VIV15_R\n",
              "0        100.0       0.0      33.3    73.7    100.0\n",
              "1        100.0       0.0      35.7    58.3    100.0\n",
              "2         93.1       0.0      33.6    72.4    100.0\n",
              "3         90.0       0.0      37.2    60.0    100.0\n",
              "4        100.0       0.0       0.0    84.6    100.0\n",
              "...        ...       ...       ...     ...      ...\n",
              "55664      0.0       0.0       0.0     0.0      0.0\n",
              "55665      0.0       0.0       0.0     0.0      0.0\n",
              "55666      0.0       0.0       0.0     0.0    100.0\n",
              "55667      0.0       0.0       0.0     0.0      0.0\n",
              "55668      0.0       0.0       0.0     0.0      0.0\n",
              "\n",
              "[55669 rows x 5 columns]"
            ],
            "text/html": [
              "\n",
              "  <div id=\"df-405a1920-2b34-41a3-93ad-b4b25c47e0e6\">\n",
              "    <div class=\"colab-df-container\">\n",
              "      <div>\n",
              "<style scoped>\n",
              "    .dataframe tbody tr th:only-of-type {\n",
              "        vertical-align: middle;\n",
              "    }\n",
              "\n",
              "    .dataframe tbody tr th {\n",
              "        vertical-align: top;\n",
              "    }\n",
              "\n",
              "    .dataframe thead th {\n",
              "        text-align: right;\n",
              "    }\n",
              "</style>\n",
              "<table border=\"1\" class=\"dataframe\">\n",
              "  <thead>\n",
              "    <tr style=\"text-align: right;\">\n",
              "      <th></th>\n",
              "      <th>VIV17_R</th>\n",
              "      <th>INDI19_R</th>\n",
              "      <th>SALUD2_R</th>\n",
              "      <th>VIV9_R</th>\n",
              "      <th>VIV15_R</th>\n",
              "    </tr>\n",
              "  </thead>\n",
              "  <tbody>\n",
              "    <tr>\n",
              "      <th>0</th>\n",
              "      <td>100.0</td>\n",
              "      <td>0.0</td>\n",
              "      <td>33.3</td>\n",
              "      <td>73.7</td>\n",
              "      <td>100.0</td>\n",
              "    </tr>\n",
              "    <tr>\n",
              "      <th>1</th>\n",
              "      <td>100.0</td>\n",
              "      <td>0.0</td>\n",
              "      <td>35.7</td>\n",
              "      <td>58.3</td>\n",
              "      <td>100.0</td>\n",
              "    </tr>\n",
              "    <tr>\n",
              "      <th>2</th>\n",
              "      <td>93.1</td>\n",
              "      <td>0.0</td>\n",
              "      <td>33.6</td>\n",
              "      <td>72.4</td>\n",
              "      <td>100.0</td>\n",
              "    </tr>\n",
              "    <tr>\n",
              "      <th>3</th>\n",
              "      <td>90.0</td>\n",
              "      <td>0.0</td>\n",
              "      <td>37.2</td>\n",
              "      <td>60.0</td>\n",
              "      <td>100.0</td>\n",
              "    </tr>\n",
              "    <tr>\n",
              "      <th>4</th>\n",
              "      <td>100.0</td>\n",
              "      <td>0.0</td>\n",
              "      <td>0.0</td>\n",
              "      <td>84.6</td>\n",
              "      <td>100.0</td>\n",
              "    </tr>\n",
              "    <tr>\n",
              "      <th>...</th>\n",
              "      <td>...</td>\n",
              "      <td>...</td>\n",
              "      <td>...</td>\n",
              "      <td>...</td>\n",
              "      <td>...</td>\n",
              "    </tr>\n",
              "    <tr>\n",
              "      <th>55664</th>\n",
              "      <td>0.0</td>\n",
              "      <td>0.0</td>\n",
              "      <td>0.0</td>\n",
              "      <td>0.0</td>\n",
              "      <td>0.0</td>\n",
              "    </tr>\n",
              "    <tr>\n",
              "      <th>55665</th>\n",
              "      <td>0.0</td>\n",
              "      <td>0.0</td>\n",
              "      <td>0.0</td>\n",
              "      <td>0.0</td>\n",
              "      <td>0.0</td>\n",
              "    </tr>\n",
              "    <tr>\n",
              "      <th>55666</th>\n",
              "      <td>0.0</td>\n",
              "      <td>0.0</td>\n",
              "      <td>0.0</td>\n",
              "      <td>0.0</td>\n",
              "      <td>100.0</td>\n",
              "    </tr>\n",
              "    <tr>\n",
              "      <th>55667</th>\n",
              "      <td>0.0</td>\n",
              "      <td>0.0</td>\n",
              "      <td>0.0</td>\n",
              "      <td>0.0</td>\n",
              "      <td>0.0</td>\n",
              "    </tr>\n",
              "    <tr>\n",
              "      <th>55668</th>\n",
              "      <td>0.0</td>\n",
              "      <td>0.0</td>\n",
              "      <td>0.0</td>\n",
              "      <td>0.0</td>\n",
              "      <td>0.0</td>\n",
              "    </tr>\n",
              "  </tbody>\n",
              "</table>\n",
              "<p>55669 rows × 5 columns</p>\n",
              "</div>\n",
              "      <button class=\"colab-df-convert\" onclick=\"convertToInteractive('df-405a1920-2b34-41a3-93ad-b4b25c47e0e6')\"\n",
              "              title=\"Convert this dataframe to an interactive table.\"\n",
              "              style=\"display:none;\">\n",
              "        \n",
              "  <svg xmlns=\"http://www.w3.org/2000/svg\" height=\"24px\"viewBox=\"0 0 24 24\"\n",
              "       width=\"24px\">\n",
              "    <path d=\"M0 0h24v24H0V0z\" fill=\"none\"/>\n",
              "    <path d=\"M18.56 5.44l.94 2.06.94-2.06 2.06-.94-2.06-.94-.94-2.06-.94 2.06-2.06.94zm-11 1L8.5 8.5l.94-2.06 2.06-.94-2.06-.94L8.5 2.5l-.94 2.06-2.06.94zm10 10l.94 2.06.94-2.06 2.06-.94-2.06-.94-.94-2.06-.94 2.06-2.06.94z\"/><path d=\"M17.41 7.96l-1.37-1.37c-.4-.4-.92-.59-1.43-.59-.52 0-1.04.2-1.43.59L10.3 9.45l-7.72 7.72c-.78.78-.78 2.05 0 2.83L4 21.41c.39.39.9.59 1.41.59.51 0 1.02-.2 1.41-.59l7.78-7.78 2.81-2.81c.8-.78.8-2.07 0-2.86zM5.41 20L4 18.59l7.72-7.72 1.47 1.35L5.41 20z\"/>\n",
              "  </svg>\n",
              "      </button>\n",
              "      \n",
              "  <style>\n",
              "    .colab-df-container {\n",
              "      display:flex;\n",
              "      flex-wrap:wrap;\n",
              "      gap: 12px;\n",
              "    }\n",
              "\n",
              "    .colab-df-convert {\n",
              "      background-color: #E8F0FE;\n",
              "      border: none;\n",
              "      border-radius: 50%;\n",
              "      cursor: pointer;\n",
              "      display: none;\n",
              "      fill: #1967D2;\n",
              "      height: 32px;\n",
              "      padding: 0 0 0 0;\n",
              "      width: 32px;\n",
              "    }\n",
              "\n",
              "    .colab-df-convert:hover {\n",
              "      background-color: #E2EBFA;\n",
              "      box-shadow: 0px 1px 2px rgba(60, 64, 67, 0.3), 0px 1px 3px 1px rgba(60, 64, 67, 0.15);\n",
              "      fill: #174EA6;\n",
              "    }\n",
              "\n",
              "    [theme=dark] .colab-df-convert {\n",
              "      background-color: #3B4455;\n",
              "      fill: #D2E3FC;\n",
              "    }\n",
              "\n",
              "    [theme=dark] .colab-df-convert:hover {\n",
              "      background-color: #434B5C;\n",
              "      box-shadow: 0px 1px 3px 1px rgba(0, 0, 0, 0.15);\n",
              "      filter: drop-shadow(0px 1px 2px rgba(0, 0, 0, 0.3));\n",
              "      fill: #FFFFFF;\n",
              "    }\n",
              "  </style>\n",
              "\n",
              "      <script>\n",
              "        const buttonEl =\n",
              "          document.querySelector('#df-405a1920-2b34-41a3-93ad-b4b25c47e0e6 button.colab-df-convert');\n",
              "        buttonEl.style.display =\n",
              "          google.colab.kernel.accessAllowed ? 'block' : 'none';\n",
              "\n",
              "        async function convertToInteractive(key) {\n",
              "          const element = document.querySelector('#df-405a1920-2b34-41a3-93ad-b4b25c47e0e6');\n",
              "          const dataTable =\n",
              "            await google.colab.kernel.invokeFunction('convertToInteractive',\n",
              "                                                     [key], {});\n",
              "          if (!dataTable) return;\n",
              "\n",
              "          const docLinkHtml = 'Like what you see? Visit the ' +\n",
              "            '<a target=\"_blank\" href=https://colab.research.google.com/notebooks/data_table.ipynb>data table notebook</a>'\n",
              "            + ' to learn more about interactive tables.';\n",
              "          element.innerHTML = '';\n",
              "          dataTable['output_type'] = 'display_data';\n",
              "          await google.colab.output.renderOutput(dataTable, element);\n",
              "          const docLink = document.createElement('div');\n",
              "          docLink.innerHTML = docLinkHtml;\n",
              "          element.appendChild(docLink);\n",
              "        }\n",
              "      </script>\n",
              "    </div>\n",
              "  </div>\n",
              "  "
            ]
          },
          "metadata": {},
          "execution_count": 84
        }
      ]
    },
    {
      "cell_type": "code",
      "source": [
        "corr=df_corregida.corr()\n",
        "corr"
      ],
      "metadata": {
        "id": "pRXTi3XqTJ-b",
        "outputId": "54b23789-5760-4ea5-d56a-7e5693bf92f1",
        "colab": {
          "base_uri": "https://localhost:8080/",
          "height": 206
        }
      },
      "execution_count": 87,
      "outputs": [
        {
          "output_type": "execute_result",
          "data": {
            "text/plain": [
              "           VIV17_R  INDI19_R  SALUD2_R    VIV9_R   VIV15_R\n",
              "VIV17_R   1.000000  0.053066  0.475839  0.650400  0.860134\n",
              "INDI19_R  0.053066  1.000000  0.042360  0.031873  0.147772\n",
              "SALUD2_R  0.475839  0.042360  1.000000  0.363970  0.555989\n",
              "VIV9_R    0.650400  0.031873  0.363970  1.000000  0.668655\n",
              "VIV15_R   0.860134  0.147772  0.555989  0.668655  1.000000"
            ],
            "text/html": [
              "\n",
              "  <div id=\"df-d2fbe23d-0816-4a15-a245-fe6493f4be67\">\n",
              "    <div class=\"colab-df-container\">\n",
              "      <div>\n",
              "<style scoped>\n",
              "    .dataframe tbody tr th:only-of-type {\n",
              "        vertical-align: middle;\n",
              "    }\n",
              "\n",
              "    .dataframe tbody tr th {\n",
              "        vertical-align: top;\n",
              "    }\n",
              "\n",
              "    .dataframe thead th {\n",
              "        text-align: right;\n",
              "    }\n",
              "</style>\n",
              "<table border=\"1\" class=\"dataframe\">\n",
              "  <thead>\n",
              "    <tr style=\"text-align: right;\">\n",
              "      <th></th>\n",
              "      <th>VIV17_R</th>\n",
              "      <th>INDI19_R</th>\n",
              "      <th>SALUD2_R</th>\n",
              "      <th>VIV9_R</th>\n",
              "      <th>VIV15_R</th>\n",
              "    </tr>\n",
              "  </thead>\n",
              "  <tbody>\n",
              "    <tr>\n",
              "      <th>VIV17_R</th>\n",
              "      <td>1.000000</td>\n",
              "      <td>0.053066</td>\n",
              "      <td>0.475839</td>\n",
              "      <td>0.650400</td>\n",
              "      <td>0.860134</td>\n",
              "    </tr>\n",
              "    <tr>\n",
              "      <th>INDI19_R</th>\n",
              "      <td>0.053066</td>\n",
              "      <td>1.000000</td>\n",
              "      <td>0.042360</td>\n",
              "      <td>0.031873</td>\n",
              "      <td>0.147772</td>\n",
              "    </tr>\n",
              "    <tr>\n",
              "      <th>SALUD2_R</th>\n",
              "      <td>0.475839</td>\n",
              "      <td>0.042360</td>\n",
              "      <td>1.000000</td>\n",
              "      <td>0.363970</td>\n",
              "      <td>0.555989</td>\n",
              "    </tr>\n",
              "    <tr>\n",
              "      <th>VIV9_R</th>\n",
              "      <td>0.650400</td>\n",
              "      <td>0.031873</td>\n",
              "      <td>0.363970</td>\n",
              "      <td>1.000000</td>\n",
              "      <td>0.668655</td>\n",
              "    </tr>\n",
              "    <tr>\n",
              "      <th>VIV15_R</th>\n",
              "      <td>0.860134</td>\n",
              "      <td>0.147772</td>\n",
              "      <td>0.555989</td>\n",
              "      <td>0.668655</td>\n",
              "      <td>1.000000</td>\n",
              "    </tr>\n",
              "  </tbody>\n",
              "</table>\n",
              "</div>\n",
              "      <button class=\"colab-df-convert\" onclick=\"convertToInteractive('df-d2fbe23d-0816-4a15-a245-fe6493f4be67')\"\n",
              "              title=\"Convert this dataframe to an interactive table.\"\n",
              "              style=\"display:none;\">\n",
              "        \n",
              "  <svg xmlns=\"http://www.w3.org/2000/svg\" height=\"24px\"viewBox=\"0 0 24 24\"\n",
              "       width=\"24px\">\n",
              "    <path d=\"M0 0h24v24H0V0z\" fill=\"none\"/>\n",
              "    <path d=\"M18.56 5.44l.94 2.06.94-2.06 2.06-.94-2.06-.94-.94-2.06-.94 2.06-2.06.94zm-11 1L8.5 8.5l.94-2.06 2.06-.94-2.06-.94L8.5 2.5l-.94 2.06-2.06.94zm10 10l.94 2.06.94-2.06 2.06-.94-2.06-.94-.94-2.06-.94 2.06-2.06.94z\"/><path d=\"M17.41 7.96l-1.37-1.37c-.4-.4-.92-.59-1.43-.59-.52 0-1.04.2-1.43.59L10.3 9.45l-7.72 7.72c-.78.78-.78 2.05 0 2.83L4 21.41c.39.39.9.59 1.41.59.51 0 1.02-.2 1.41-.59l7.78-7.78 2.81-2.81c.8-.78.8-2.07 0-2.86zM5.41 20L4 18.59l7.72-7.72 1.47 1.35L5.41 20z\"/>\n",
              "  </svg>\n",
              "      </button>\n",
              "      \n",
              "  <style>\n",
              "    .colab-df-container {\n",
              "      display:flex;\n",
              "      flex-wrap:wrap;\n",
              "      gap: 12px;\n",
              "    }\n",
              "\n",
              "    .colab-df-convert {\n",
              "      background-color: #E8F0FE;\n",
              "      border: none;\n",
              "      border-radius: 50%;\n",
              "      cursor: pointer;\n",
              "      display: none;\n",
              "      fill: #1967D2;\n",
              "      height: 32px;\n",
              "      padding: 0 0 0 0;\n",
              "      width: 32px;\n",
              "    }\n",
              "\n",
              "    .colab-df-convert:hover {\n",
              "      background-color: #E2EBFA;\n",
              "      box-shadow: 0px 1px 2px rgba(60, 64, 67, 0.3), 0px 1px 3px 1px rgba(60, 64, 67, 0.15);\n",
              "      fill: #174EA6;\n",
              "    }\n",
              "\n",
              "    [theme=dark] .colab-df-convert {\n",
              "      background-color: #3B4455;\n",
              "      fill: #D2E3FC;\n",
              "    }\n",
              "\n",
              "    [theme=dark] .colab-df-convert:hover {\n",
              "      background-color: #434B5C;\n",
              "      box-shadow: 0px 1px 3px 1px rgba(0, 0, 0, 0.15);\n",
              "      filter: drop-shadow(0px 1px 2px rgba(0, 0, 0, 0.3));\n",
              "      fill: #FFFFFF;\n",
              "    }\n",
              "  </style>\n",
              "\n",
              "      <script>\n",
              "        const buttonEl =\n",
              "          document.querySelector('#df-d2fbe23d-0816-4a15-a245-fe6493f4be67 button.colab-df-convert');\n",
              "        buttonEl.style.display =\n",
              "          google.colab.kernel.accessAllowed ? 'block' : 'none';\n",
              "\n",
              "        async function convertToInteractive(key) {\n",
              "          const element = document.querySelector('#df-d2fbe23d-0816-4a15-a245-fe6493f4be67');\n",
              "          const dataTable =\n",
              "            await google.colab.kernel.invokeFunction('convertToInteractive',\n",
              "                                                     [key], {});\n",
              "          if (!dataTable) return;\n",
              "\n",
              "          const docLinkHtml = 'Like what you see? Visit the ' +\n",
              "            '<a target=\"_blank\" href=https://colab.research.google.com/notebooks/data_table.ipynb>data table notebook</a>'\n",
              "            + ' to learn more about interactive tables.';\n",
              "          element.innerHTML = '';\n",
              "          dataTable['output_type'] = 'display_data';\n",
              "          await google.colab.output.renderOutput(dataTable, element);\n",
              "          const docLink = document.createElement('div');\n",
              "          docLink.innerHTML = docLinkHtml;\n",
              "          element.appendChild(docLink);\n",
              "        }\n",
              "      </script>\n",
              "    </div>\n",
              "  </div>\n",
              "  "
            ]
          },
          "metadata": {},
          "execution_count": 87
        }
      ]
    },
    {
      "cell_type": "code",
      "execution_count": 58,
      "metadata": {
        "colab": {
          "base_uri": "https://localhost:8080/"
        },
        "id": "6nj9t03kbPo2",
        "outputId": "0bfacef5-01f7-41f1-9f56-1ba628f5f9bf"
      },
      "outputs": [
        {
          "output_type": "stream",
          "name": "stdout",
          "text": [
            "+----------------+-------+--------+--------+------+-------+--------------------+--------------------+\n",
            "|          CVEGEO|VIV17_R|INDI19_R|SALUD2_R|VIV9_R|VIV15_R|            geometry|            features|\n",
            "+----------------+-------+--------+--------+------+-------+--------------------+--------------------+\n",
            "|3000100010032004|  100.0|     0.0|    25.9|  50.0|  100.0|POLYGON ((3022200...|[100.0,0.0,25.9,5...|\n",
            "|3000100010047001|    0.0|     0.0|     0.0|   0.0|    0.0|POLYGON ((3022302...|           (5,[],[])|\n",
            "|3000200010025005|  100.0|     0.0|    41.6|  69.4|  100.0|POLYGON ((3038933...|[100.0,0.0,41.6,6...|\n",
            "|3000200010025016|  100.0|     0.0|    25.7|  72.4|   96.6|POLYGON ((3038801...|[100.0,0.0,25.7,7...|\n",
            "|3000200010025030|  100.0|     0.0|    18.9|  58.7|  100.0|POLYGON ((3038652...|[100.0,0.0,18.9,5...|\n",
            "|3000300010107008|  100.0|     0.0|    48.0|  64.4|  100.0|POLYGON ((3249153...|[100.0,0.0,48.0,6...|\n",
            "|3000300010107011|   96.2|     0.0|    39.2|  57.7|   98.7|POLYGON ((3249452...|[96.2,0.0,39.2,57...|\n",
            "|3000300010107019|  100.0|     0.0|    55.9|  70.8|  100.0|POLYGON ((3248919...|[100.0,0.0,55.9,7...|\n",
            "|3000300010107022|   98.8|     3.8|    28.5|  48.8|   98.8|POLYGON ((3248994...|[98.8,3.8,28.5,48...|\n",
            "|3000300010107024|  100.0|     0.0|    32.4|  70.0|  100.0|POLYGON ((3249325...|[100.0,0.0,32.4,7...|\n",
            "|3000300010126001|   94.7|     0.0|    34.2|  73.7|  100.0|POLYGON ((3248465...|[94.7,0.0,34.2,73...|\n",
            "|3000300010126053|   85.7|     0.0|    20.8|  57.1|  100.0|POLYGON ((3248742...|[85.7,0.0,20.8,57...|\n",
            "|3000300010130005|  100.0|     0.0|    33.9|  48.6|  100.0|POLYGON ((3249441...|[100.0,0.0,33.9,4...|\n",
            "|3000300010130006|   96.8|     0.0|    19.2|  48.4|   96.8|POLYGON ((3249325...|[96.8,0.0,19.2,48...|\n",
            "|3000300010130018|   92.9|     0.0|    40.2|  42.9|  100.0|POLYGON ((3249221...|[92.9,0.0,40.2,42...|\n",
            "|3000300010130040|   95.7|    13.0|    30.1|  47.8|  100.0|POLYGON ((3249663...|[95.7,13.0,30.1,4...|\n",
            "|3000300010145008|    0.0|     0.0|     0.0|   0.0|    0.0|POLYGON ((3248320...|           (5,[],[])|\n",
            "|3000300010145010|    0.0|     0.0|     0.0|   0.0|    0.0|POLYGON ((3248646...|           (5,[],[])|\n",
            "|3000300010145119|   91.7|     0.0|    26.5|  33.3|  100.0|POLYGON ((3248169...|[91.7,0.0,26.5,33...|\n",
            "|300030001015A031|  100.0|     0.0|    25.6|  77.8|  100.0|POLYGON ((3249045...|[100.0,0.0,25.6,7...|\n",
            "+----------------+-------+--------+--------+------+-------+--------------------+--------------------+\n",
            "only showing top 20 rows\n",
            "\n"
          ]
        }
      ],
      "source": [
        "from pyspark.ml.feature import VectorAssembler\n",
        "from pyspark.ml.clustering import KMeans\n",
        "\n",
        "vecAssembler = VectorAssembler(inputCols=[\"VIV17_R\", \"INDI19_R\", \"SALUD2_R\", \"VIV9_R\", \"VIV15_R\"], outputCol=\"features\")\n",
        "BD_MZA_EEVVV_CORREGIDO_VEC = vecAssembler.transform(BD_MZA_EEVVV_CORREGIDO)\n",
        "BD_MZA_EEVVV_CORREGIDO_VEC.cache()\n",
        "BD_MZA_EEVVV_CORREGIDO_VEC.show()"
      ]
    },
    {
      "cell_type": "code",
      "execution_count": 59,
      "metadata": {
        "colab": {
          "base_uri": "https://localhost:8080/"
        },
        "id": "8U_hIPZ_bZOr",
        "outputId": "0b03c7da-253d-47c7-cdd6-6c6ceeedff2a"
      },
      "outputs": [
        {
          "output_type": "stream",
          "name": "stdout",
          "text": [
            "+----------------+-------+--------+--------+------+-------+--------------------+--------------------+----------+\n",
            "|          CVEGEO|VIV17_R|INDI19_R|SALUD2_R|VIV9_R|VIV15_R|            geometry|            features|prediction|\n",
            "+----------------+-------+--------+--------+------+-------+--------------------+--------------------+----------+\n",
            "|3000100010032004|  100.0|     0.0|    25.9|  50.0|  100.0|POLYGON ((3022200...|[100.0,0.0,25.9,5...|         0|\n",
            "|3000100010047001|    0.0|     0.0|     0.0|   0.0|    0.0|POLYGON ((3022302...|           (5,[],[])|         1|\n",
            "|3000200010025005|  100.0|     0.0|    41.6|  69.4|  100.0|POLYGON ((3038933...|[100.0,0.0,41.6,6...|         0|\n",
            "|3000200010025016|  100.0|     0.0|    25.7|  72.4|   96.6|POLYGON ((3038801...|[100.0,0.0,25.7,7...|         2|\n",
            "|3000200010025030|  100.0|     0.0|    18.9|  58.7|  100.0|POLYGON ((3038652...|[100.0,0.0,18.9,5...|         0|\n",
            "|3000300010107008|  100.0|     0.0|    48.0|  64.4|  100.0|POLYGON ((3249153...|[100.0,0.0,48.0,6...|         0|\n",
            "|3000300010107011|   96.2|     0.0|    39.2|  57.7|   98.7|POLYGON ((3249452...|[96.2,0.0,39.2,57...|         0|\n",
            "|3000300010107019|  100.0|     0.0|    55.9|  70.8|  100.0|POLYGON ((3248919...|[100.0,0.0,55.9,7...|         0|\n",
            "|3000300010107022|   98.8|     3.8|    28.5|  48.8|   98.8|POLYGON ((3248994...|[98.8,3.8,28.5,48...|         0|\n",
            "|3000300010107024|  100.0|     0.0|    32.4|  70.0|  100.0|POLYGON ((3249325...|[100.0,0.0,32.4,7...|         0|\n",
            "|3000300010126001|   94.7|     0.0|    34.2|  73.7|  100.0|POLYGON ((3248465...|[94.7,0.0,34.2,73...|         2|\n",
            "|3000300010126053|   85.7|     0.0|    20.8|  57.1|  100.0|POLYGON ((3248742...|[85.7,0.0,20.8,57...|         0|\n",
            "|3000300010130005|  100.0|     0.0|    33.9|  48.6|  100.0|POLYGON ((3249441...|[100.0,0.0,33.9,4...|         0|\n",
            "|3000300010130006|   96.8|     0.0|    19.2|  48.4|   96.8|POLYGON ((3249325...|[96.8,0.0,19.2,48...|         0|\n",
            "|3000300010130018|   92.9|     0.0|    40.2|  42.9|  100.0|POLYGON ((3249221...|[92.9,0.0,40.2,42...|         0|\n",
            "|3000300010130040|   95.7|    13.0|    30.1|  47.8|  100.0|POLYGON ((3249663...|[95.7,13.0,30.1,4...|         0|\n",
            "|3000300010145008|    0.0|     0.0|     0.0|   0.0|    0.0|POLYGON ((3248320...|           (5,[],[])|         1|\n",
            "|3000300010145010|    0.0|     0.0|     0.0|   0.0|    0.0|POLYGON ((3248646...|           (5,[],[])|         1|\n",
            "|3000300010145119|   91.7|     0.0|    26.5|  33.3|  100.0|POLYGON ((3248169...|[91.7,0.0,26.5,33...|         0|\n",
            "|300030001015A031|  100.0|     0.0|    25.6|  77.8|  100.0|POLYGON ((3249045...|[100.0,0.0,25.6,7...|         2|\n",
            "+----------------+-------+--------+--------+------+-------+--------------------+--------------------+----------+\n",
            "only showing top 20 rows\n",
            "\n"
          ]
        }
      ],
      "source": [
        "kmeans = KMeans(k=5, seed=1, maxIter=250) \n",
        "model = kmeans.fit(BD_MZA_EEVVV_CORREGIDO_VEC.select('features'))\n",
        "transformed = model.transform(BD_MZA_EEVVV_CORREGIDO_VEC)\n",
        "transformed.show()"
      ]
    },
    {
      "cell_type": "code",
      "execution_count": 60,
      "metadata": {
        "colab": {
          "base_uri": "https://localhost:8080/"
        },
        "id": "qRki0SzLeR0g",
        "outputId": "46df9a6e-e89c-46dc-d98c-e7674d6c9c28"
      },
      "outputs": [
        {
          "output_type": "stream",
          "name": "stdout",
          "text": [
            "+----------+----------------------+----------------------+-------------------------------+------------------+-------------------+------+\n",
            "|prediction|mean_sin_agua_entubada|mean_hogares_indigenas|mean_sin_derechohabiencia_salud| mean_hacinamiento|       mean_sin_luz|conteo|\n",
            "+----------+----------------------+----------------------+-------------------------------+------------------+-------------------+------+\n",
            "|         1|    0.3305553512320706|   0.05880102979036411|             0.7190511217359328|0.1203162927546892|0.07246781905112173| 13595|\n",
            "|         3|    13.778806195693226|     8.317038156403472|              31.41552701171138| 36.67990177559505|  97.19455987910835|  2647|\n",
            "|         4|     96.34895440171384|    23.723247985310625|             26.959818422931814|12.052810364174254|  98.38103641742333|  9803|\n",
            "|         0|      97.0424577702699|    1.8282376126126076|              35.08636261261273| 55.35801801801786|  99.34187218468452| 35520|\n",
            "|         2|     98.72195485384535|    1.6663781624500655|             19.852159026060306| 80.87431044321798|  99.73988650053887| 31542|\n",
            "+----------+----------------------+----------------------+-------------------------------+------------------+-------------------+------+\n",
            "\n"
          ]
        }
      ],
      "source": [
        "transformed.createOrReplaceTempView(\"result_kmeans\")\n",
        "clusters = spark.sql(\"\"\" select prediction, \n",
        "    mean(VIV17_R) as mean_sin_agua_entubada, \n",
        "    mean(INDI19_R) as mean_hogares_indigenas,\n",
        "    mean(SALUD2_R) as mean_sin_derechohabiencia_salud,\n",
        "    mean(VIV9_R) as mean_hacinamiento,\n",
        "    mean(VIV15_R) as mean_sin_luz,\n",
        "    count(*) as conteo\n",
        "from result_kmeans group by prediction order by mean_sin_agua_entubada\"\"\")\n",
        "\n",
        "clusters.show()"
      ]
    },
    {
      "cell_type": "code",
      "execution_count": 61,
      "metadata": {
        "id": "aW-4GNPWg4v0"
      },
      "outputs": [],
      "source": [
        "df_clusters = clusters.toPandas()"
      ]
    },
    {
      "cell_type": "code",
      "execution_count": 62,
      "metadata": {
        "colab": {
          "base_uri": "https://localhost:8080/",
          "height": 270
        },
        "id": "S7ScqcZWg8xN",
        "outputId": "887a14d2-c3c4-4780-b609-fbcc0a0f5769"
      },
      "outputs": [
        {
          "output_type": "execute_result",
          "data": {
            "text/plain": [
              "   prediction  mean_sin_agua_entubada  mean_hogares_indigenas  \\\n",
              "0           1                0.330555                0.058801   \n",
              "1           3               13.778806                8.317038   \n",
              "2           4               96.348954               23.723248   \n",
              "3           0               97.042458                1.828238   \n",
              "4           2               98.721955                1.666378   \n",
              "\n",
              "   mean_sin_derechohabiencia_salud  mean_hacinamiento  mean_sin_luz  conteo  \n",
              "0                         0.719051           0.120316      0.072468   13595  \n",
              "1                        31.415527          36.679902     97.194560    2647  \n",
              "2                        26.959818          12.052810     98.381036    9803  \n",
              "3                        35.086363          55.358018     99.341872   35520  \n",
              "4                        19.852159          80.874310     99.739887   31542  "
            ],
            "text/html": [
              "\n",
              "  <div id=\"df-03caaf2a-64fb-4f45-9c7d-b15265a03c56\">\n",
              "    <div class=\"colab-df-container\">\n",
              "      <div>\n",
              "<style scoped>\n",
              "    .dataframe tbody tr th:only-of-type {\n",
              "        vertical-align: middle;\n",
              "    }\n",
              "\n",
              "    .dataframe tbody tr th {\n",
              "        vertical-align: top;\n",
              "    }\n",
              "\n",
              "    .dataframe thead th {\n",
              "        text-align: right;\n",
              "    }\n",
              "</style>\n",
              "<table border=\"1\" class=\"dataframe\">\n",
              "  <thead>\n",
              "    <tr style=\"text-align: right;\">\n",
              "      <th></th>\n",
              "      <th>prediction</th>\n",
              "      <th>mean_sin_agua_entubada</th>\n",
              "      <th>mean_hogares_indigenas</th>\n",
              "      <th>mean_sin_derechohabiencia_salud</th>\n",
              "      <th>mean_hacinamiento</th>\n",
              "      <th>mean_sin_luz</th>\n",
              "      <th>conteo</th>\n",
              "    </tr>\n",
              "  </thead>\n",
              "  <tbody>\n",
              "    <tr>\n",
              "      <th>0</th>\n",
              "      <td>1</td>\n",
              "      <td>0.330555</td>\n",
              "      <td>0.058801</td>\n",
              "      <td>0.719051</td>\n",
              "      <td>0.120316</td>\n",
              "      <td>0.072468</td>\n",
              "      <td>13595</td>\n",
              "    </tr>\n",
              "    <tr>\n",
              "      <th>1</th>\n",
              "      <td>3</td>\n",
              "      <td>13.778806</td>\n",
              "      <td>8.317038</td>\n",
              "      <td>31.415527</td>\n",
              "      <td>36.679902</td>\n",
              "      <td>97.194560</td>\n",
              "      <td>2647</td>\n",
              "    </tr>\n",
              "    <tr>\n",
              "      <th>2</th>\n",
              "      <td>4</td>\n",
              "      <td>96.348954</td>\n",
              "      <td>23.723248</td>\n",
              "      <td>26.959818</td>\n",
              "      <td>12.052810</td>\n",
              "      <td>98.381036</td>\n",
              "      <td>9803</td>\n",
              "    </tr>\n",
              "    <tr>\n",
              "      <th>3</th>\n",
              "      <td>0</td>\n",
              "      <td>97.042458</td>\n",
              "      <td>1.828238</td>\n",
              "      <td>35.086363</td>\n",
              "      <td>55.358018</td>\n",
              "      <td>99.341872</td>\n",
              "      <td>35520</td>\n",
              "    </tr>\n",
              "    <tr>\n",
              "      <th>4</th>\n",
              "      <td>2</td>\n",
              "      <td>98.721955</td>\n",
              "      <td>1.666378</td>\n",
              "      <td>19.852159</td>\n",
              "      <td>80.874310</td>\n",
              "      <td>99.739887</td>\n",
              "      <td>31542</td>\n",
              "    </tr>\n",
              "  </tbody>\n",
              "</table>\n",
              "</div>\n",
              "      <button class=\"colab-df-convert\" onclick=\"convertToInteractive('df-03caaf2a-64fb-4f45-9c7d-b15265a03c56')\"\n",
              "              title=\"Convert this dataframe to an interactive table.\"\n",
              "              style=\"display:none;\">\n",
              "        \n",
              "  <svg xmlns=\"http://www.w3.org/2000/svg\" height=\"24px\"viewBox=\"0 0 24 24\"\n",
              "       width=\"24px\">\n",
              "    <path d=\"M0 0h24v24H0V0z\" fill=\"none\"/>\n",
              "    <path d=\"M18.56 5.44l.94 2.06.94-2.06 2.06-.94-2.06-.94-.94-2.06-.94 2.06-2.06.94zm-11 1L8.5 8.5l.94-2.06 2.06-.94-2.06-.94L8.5 2.5l-.94 2.06-2.06.94zm10 10l.94 2.06.94-2.06 2.06-.94-2.06-.94-.94-2.06-.94 2.06-2.06.94z\"/><path d=\"M17.41 7.96l-1.37-1.37c-.4-.4-.92-.59-1.43-.59-.52 0-1.04.2-1.43.59L10.3 9.45l-7.72 7.72c-.78.78-.78 2.05 0 2.83L4 21.41c.39.39.9.59 1.41.59.51 0 1.02-.2 1.41-.59l7.78-7.78 2.81-2.81c.8-.78.8-2.07 0-2.86zM5.41 20L4 18.59l7.72-7.72 1.47 1.35L5.41 20z\"/>\n",
              "  </svg>\n",
              "      </button>\n",
              "      \n",
              "  <style>\n",
              "    .colab-df-container {\n",
              "      display:flex;\n",
              "      flex-wrap:wrap;\n",
              "      gap: 12px;\n",
              "    }\n",
              "\n",
              "    .colab-df-convert {\n",
              "      background-color: #E8F0FE;\n",
              "      border: none;\n",
              "      border-radius: 50%;\n",
              "      cursor: pointer;\n",
              "      display: none;\n",
              "      fill: #1967D2;\n",
              "      height: 32px;\n",
              "      padding: 0 0 0 0;\n",
              "      width: 32px;\n",
              "    }\n",
              "\n",
              "    .colab-df-convert:hover {\n",
              "      background-color: #E2EBFA;\n",
              "      box-shadow: 0px 1px 2px rgba(60, 64, 67, 0.3), 0px 1px 3px 1px rgba(60, 64, 67, 0.15);\n",
              "      fill: #174EA6;\n",
              "    }\n",
              "\n",
              "    [theme=dark] .colab-df-convert {\n",
              "      background-color: #3B4455;\n",
              "      fill: #D2E3FC;\n",
              "    }\n",
              "\n",
              "    [theme=dark] .colab-df-convert:hover {\n",
              "      background-color: #434B5C;\n",
              "      box-shadow: 0px 1px 3px 1px rgba(0, 0, 0, 0.15);\n",
              "      filter: drop-shadow(0px 1px 2px rgba(0, 0, 0, 0.3));\n",
              "      fill: #FFFFFF;\n",
              "    }\n",
              "  </style>\n",
              "\n",
              "      <script>\n",
              "        const buttonEl =\n",
              "          document.querySelector('#df-03caaf2a-64fb-4f45-9c7d-b15265a03c56 button.colab-df-convert');\n",
              "        buttonEl.style.display =\n",
              "          google.colab.kernel.accessAllowed ? 'block' : 'none';\n",
              "\n",
              "        async function convertToInteractive(key) {\n",
              "          const element = document.querySelector('#df-03caaf2a-64fb-4f45-9c7d-b15265a03c56');\n",
              "          const dataTable =\n",
              "            await google.colab.kernel.invokeFunction('convertToInteractive',\n",
              "                                                     [key], {});\n",
              "          if (!dataTable) return;\n",
              "\n",
              "          const docLinkHtml = 'Like what you see? Visit the ' +\n",
              "            '<a target=\"_blank\" href=https://colab.research.google.com/notebooks/data_table.ipynb>data table notebook</a>'\n",
              "            + ' to learn more about interactive tables.';\n",
              "          element.innerHTML = '';\n",
              "          dataTable['output_type'] = 'display_data';\n",
              "          await google.colab.output.renderOutput(dataTable, element);\n",
              "          const docLink = document.createElement('div');\n",
              "          docLink.innerHTML = docLinkHtml;\n",
              "          element.appendChild(docLink);\n",
              "        }\n",
              "      </script>\n",
              "    </div>\n",
              "  </div>\n",
              "  "
            ]
          },
          "metadata": {},
          "execution_count": 62
        }
      ],
      "source": [
        "df_clusters"
      ]
    },
    {
      "cell_type": "code",
      "source": [
        "df_clusters.to_csv(\"Veracruz.csv\")"
      ],
      "metadata": {
        "id": "eNwcne2ziesP"
      },
      "execution_count": 63,
      "outputs": []
    },
    {
      "cell_type": "code",
      "execution_count": 66,
      "metadata": {
        "id": "U12mjX-9g1e8"
      },
      "outputs": [],
      "source": [
        "import numpy as np\n",
        "import matplotlib.pyplot as plt"
      ]
    },
    {
      "cell_type": "code",
      "execution_count": 86,
      "metadata": {
        "colab": {
          "base_uri": "https://localhost:8080/",
          "height": 628
        },
        "id": "5hoAkKUlhBH5",
        "outputId": "4d6ccfa6-0a94-4dfb-b5d3-a016b65ca1c8"
      },
      "outputs": [
        {
          "output_type": "display_data",
          "data": {
            "text/plain": [
              "<Figure size 720x720 with 1 Axes>"
            ],
            "image/png": "[encoded data removed]"
          },
          "metadata": {
            "needs_background": "light"
          }
        }
      ],
      "source": [
        "categories = df_clusters.columns[1:-1].values\n",
        "cluster_0 = df_clusters.where(df_clusters.prediction==0).dropna().values[0][1:-1]\n",
        "cluster_1 = df_clusters.where(df_clusters.prediction==1).dropna().values[0][1:-1]\n",
        "cluster_2 = df_clusters.where(df_clusters.prediction==2).dropna().values[0][1:-1]\n",
        "cluster_3 = df_clusters.where(df_clusters.prediction==3).dropna().values[0][1:-1]\n",
        "cluster_4 = df_clusters.where(df_clusters.prediction==4).dropna().values[0][1:-1]\n",
        "\n",
        "cluster_0 = [*cluster_0,cluster_0[0]]\n",
        "cluster_1 = [*cluster_1,cluster_1[0]]\n",
        "cluster_2 = [*cluster_2,cluster_2[0]]\n",
        "cluster_3 = [*cluster_3,cluster_3[0]]\n",
        "cluster_4 = [*cluster_4,cluster_4[0]]\n",
        "\n",
        "label_loc = np.linspace(start=0, stop=2 * np.pi, num=len(cluster_0))\n",
        "\n",
        "plt.figure(figsize=(10, 10))\n",
        "plt.subplot(polar=True)\n",
        "plt.plot(label_loc, cluster_0, label='Cluster 0')\n",
        "plt.plot(label_loc, cluster_1, label='Cluster 1')\n",
        "plt.plot(label_loc, cluster_2, label='Cluster 2')\n",
        "plt.plot(label_loc, cluster_3, label='Cluster 3')\n",
        "plt.plot(label_loc, cluster_4, label='Cluster 4')\n",
        "plt.title('Comparacion de clusters', size=20)\n",
        "lines, labels = plt.thetagrids(np.degrees(label_loc), labels=categories)\n",
        "plt.legend()\n",
        "plt.savefig('Veracruz.png')\n",
        "plt.show()"
      ]
    },
    {
      "cell_type": "code",
      "source": [],
      "metadata": {
        "id": "oBmqc5QKjA2W"
      },
      "execution_count": null,
      "outputs": []
    }
  ],
  "metadata": {
    "colab": {
      "collapsed_sections": [],
      "provenance": []
    },
    "kernelspec": {
      "display_name": "Python 3",
      "name": "python3"
    },
    "language_info": {
      "name": "python"
    }
  },
  "nbformat": 4,
  "nbformat_minor": 0
}